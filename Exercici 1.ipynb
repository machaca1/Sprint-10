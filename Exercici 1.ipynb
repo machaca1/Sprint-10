{
 "cells": [
  {
   "cell_type": "markdown",
   "id": "1f7d09a2",
   "metadata": {},
   "source": [
    "Realitza web scraping de dues de les tres pàgines web proposades utilitzant BeautifulSoup primer i Selenium després. \n",
    "\n",
    "- http://quotes.toscrape.com\n",
    "\n",
    "- https://www.bolsamadrid.es\n",
    "\n",
    "- www.wikipedia.es (fes alguna cerca primer i escrapeja algun contingut)"
   ]
  },
  {
   "cell_type": "code",
   "execution_count": 3,
   "id": "bf861a35",
   "metadata": {},
   "outputs": [
    {
     "name": "stdout",
     "output_type": "stream",
     "text": [
      "Cita: “The world as we have created it is a process of our thinking. It cannot be changed without changing our thinking.”\n",
      "Autor: Albert Einstein\n",
      "\n",
      "Cita: “It is our choices, Harry, that show what we truly are, far more than our abilities.”\n",
      "Autor: J.K. Rowling\n",
      "\n",
      "Cita: “There are only two ways to live your life. One is as though nothing is a miracle. The other is as though everything is a miracle.”\n",
      "Autor: Albert Einstein\n",
      "\n",
      "Cita: “The person, be it gentleman or lady, who has not pleasure in a good novel, must be intolerably stupid.”\n",
      "Autor: Jane Austen\n",
      "\n",
      "Cita: “Imperfection is beauty, madness is genius and it's better to be absolutely ridiculous than absolutely boring.”\n",
      "Autor: Marilyn Monroe\n",
      "\n",
      "Cita: “Try not to become a man of success. Rather become a man of value.”\n",
      "Autor: Albert Einstein\n",
      "\n",
      "Cita: “It is better to be hated for what you are than to be loved for what you are not.”\n",
      "Autor: André Gide\n",
      "\n",
      "Cita: “I have not failed. I've just found 10,000 ways that won't work.”\n",
      "Autor: Thomas A. Edison\n",
      "\n",
      "Cita: “A woman is like a tea bag; you never know how strong it is until it's in hot water.”\n",
      "Autor: Eleanor Roosevelt\n",
      "\n",
      "Cita: “A day without sunshine is like, you know, night.”\n",
      "Autor: Steve Martin\n",
      "\n"
     ]
    }
   ],
   "source": [
    "import requests\n",
    "from bs4 import BeautifulSoup\n",
    "\n",
    "# Realizar la solicitud HTTP a la página web\n",
    "url = \"http://quotes.toscrape.com/\"\n",
    "response = requests.get(url)\n",
    "\n",
    "# Crear un objeto BeautifulSoup con el contenido HTML recibido\n",
    "soup = BeautifulSoup(response.content, \"html.parser\")\n",
    "\n",
    "# Extraer las citas y sus autores\n",
    "quotes = soup.find_all(\"div\", class_=\"quote\")\n",
    "for quote in quotes:\n",
    "    text = quote.find(\"span\", class_=\"text\").get_text()\n",
    "    author = quote.find(\"small\", class_=\"author\").get_text()\n",
    "    print(f\"Cita: {text}\\nAutor: {author}\\n\")\n",
    "\n",
    "# Extraer la URL de la siguiente página (si existe)\n",
    "next_page = soup.find(\"li\", class_=\"next\")\n",
    "if next_page:\n",
    "    next_page_url = next_page.find(\"a\")[\"href\"]\n",
    "    next_page_response = requests.get(url + next_page_url)\n",
    "    next_page_soup = BeautifulSoup(next_page_response.content, \"html.parser\")"
   ]
  },
  {
   "cell_type": "code",
   "execution_count": 4,
   "id": "a05f62c6",
   "metadata": {},
   "outputs": [
    {
     "name": "stdout",
     "output_type": "stream",
     "text": [
      "Nombre completo:  \n",
      "Lionel Andrés Messi\n",
      "Fecha de nacimiento:  \n",
      "Rosario, Argentina24 de junio de 1987 (35 años)\n"
     ]
    }
   ],
   "source": [
    "import requests\n",
    "from bs4 import BeautifulSoup\n",
    "\n",
    "# URL de la página de Wikipedia de Lionel Messi\n",
    "url = 'https://es.wikipedia.org/wiki/Lionel_Messi'\n",
    "\n",
    "# Realizar la solicitud HTTP GET a la página\n",
    "response = requests.get(url)\n",
    "\n",
    "# Crear el objeto BeautifulSoup con el contenido HTML de la página\n",
    "soup = BeautifulSoup(response.content, 'html.parser')\n",
    "\n",
    "# Encontrar el elemento que contiene la tabla de información personal\n",
    "tabla_info_personal = soup.find('table', {'class': 'infobox'})\n",
    "\n",
    "# Encontrar el elemento que contiene el nombre completo de Lionel Messi dentro de la tabla\n",
    "nombre_completo_element = tabla_info_personal.find('th', string='Nombre de nacimiento')\n",
    "nombre_completo = nombre_completo_element.find_next('td').text\n",
    "\n",
    "# Encontrar el elemento que contiene la fecha de nacimiento de Lionel Messi dentro de la tabla\n",
    "nacimiento_element = tabla_info_personal.find('th', string='Nacimiento')\n",
    "fecha_nacimiento = nacimiento_element.find_next('td').text\n",
    "\n",
    "# Imprimir los resultados\n",
    "print('Nombre completo: ', nombre_completo)\n",
    "print('Fecha de nacimiento: ', fecha_nacimiento)\n"
   ]
  },
  {
   "cell_type": "markdown",
   "id": "56124a30",
   "metadata": {},
   "source": [
    "Selenium"
   ]
  },
  {
   "cell_type": "code",
   "execution_count": 18,
   "id": "f8d830be",
   "metadata": {},
   "outputs": [
    {
     "name": "stdout",
     "output_type": "stream",
     "text": [
      "Quote: “The world as we have created it is a process of our thinking. It cannot be changed without changing our thinking.”\n",
      "Author: Albert Einstein\n",
      "\n",
      "Quote: “It is our choices, Harry, that show what we truly are, far more than our abilities.”\n",
      "Author: J.K. Rowling\n",
      "\n",
      "Quote: “There are only two ways to live your life. One is as though nothing is a miracle. The other is as though everything is a miracle.”\n",
      "Author: Albert Einstein\n",
      "\n",
      "Quote: “The person, be it gentleman or lady, who has not pleasure in a good novel, must be intolerably stupid.”\n",
      "Author: Jane Austen\n",
      "\n",
      "Quote: “Imperfection is beauty, madness is genius and it's better to be absolutely ridiculous than absolutely boring.”\n",
      "Author: Marilyn Monroe\n",
      "\n",
      "Quote: “Try not to become a man of success. Rather become a man of value.”\n",
      "Author: Albert Einstein\n",
      "\n",
      "Quote: “It is better to be hated for what you are than to be loved for what you are not.”\n",
      "Author: André Gide\n",
      "\n",
      "Quote: “I have not failed. I've just found 10,000 ways that won't work.”\n",
      "Author: Thomas A. Edison\n",
      "\n",
      "Quote: “A woman is like a tea bag; you never know how strong it is until it's in hot water.”\n",
      "Author: Eleanor Roosevelt\n",
      "\n",
      "Quote: “A day without sunshine is like, you know, night.”\n",
      "Author: Steve Martin\n",
      "\n"
     ]
    }
   ],
   "source": [
    "from selenium import webdriver\n",
    "from selenium.webdriver.common.by import By\n",
    "\n",
    "# Set up the driver\n",
    "driver = webdriver.Firefox()\n",
    "driver.get('http://quotes.toscrape.com')\n",
    "\n",
    "# Find all the quotes on the page\n",
    "quotes = driver.find_elements(By.CLASS_NAME, 'text')\n",
    "\n",
    "# Print each quote\n",
    "for quote in quotes:\n",
    "    print('Quote:', '' + quote.text + '')\n",
    "    author = quote.find_element(By.XPATH, '../span/small').text\n",
    "    print('Author:', author)\n",
    "    print()\n",
    "\n",
    "\n",
    "# Close the driver\n",
    "driver.quit()"
   ]
  },
  {
   "cell_type": "code",
   "execution_count": 4,
   "id": "dadfb5e0",
   "metadata": {},
   "outputs": [
    {
     "ename": "AttributeError",
     "evalue": "'WebDriver' object has no attribute 'find_element_by_class_name'",
     "output_type": "error",
     "traceback": [
      "\u001b[1;31m---------------------------------------------------------------------------\u001b[0m",
      "\u001b[1;31mAttributeError\u001b[0m                            Traceback (most recent call last)",
      "\u001b[1;32m~\\AppData\\Local\\Temp\\ipykernel_18140\\2380990264.py\u001b[0m in \u001b[0;36m<module>\u001b[1;34m\u001b[0m\n\u001b[0;32m      9\u001b[0m \u001b[1;33m\u001b[0m\u001b[0m\n\u001b[0;32m     10\u001b[0m \u001b[1;31m# Encuentra la infobox table\u001b[0m\u001b[1;33m\u001b[0m\u001b[1;33m\u001b[0m\u001b[0m\n\u001b[1;32m---> 11\u001b[1;33m \u001b[0minfobox\u001b[0m \u001b[1;33m=\u001b[0m \u001b[0mdriver\u001b[0m\u001b[1;33m.\u001b[0m\u001b[0mfind_element_by_class_name\u001b[0m\u001b[1;33m(\u001b[0m\u001b[1;34m\"infobox\"\u001b[0m\u001b[1;33m)\u001b[0m\u001b[1;33m\u001b[0m\u001b[1;33m\u001b[0m\u001b[0m\n\u001b[0m\u001b[0;32m     12\u001b[0m \u001b[1;33m\u001b[0m\u001b[0m\n\u001b[0;32m     13\u001b[0m \u001b[1;31m#Encuentra nombre y nacimiento en la tabla infobox\u001b[0m\u001b[1;33m\u001b[0m\u001b[1;33m\u001b[0m\u001b[0m\n",
      "\u001b[1;31mAttributeError\u001b[0m: 'WebDriver' object has no attribute 'find_element_by_class_name'"
     ]
    }
   ],
   "source": [
    "from selenium import webdriver\n",
    "from selenium.webdriver.chrome.options import Options\n",
    "from selenium.webdriver.common.by import By\n",
    "from selenium.webdriver.support.ui import WebDriverWait\n",
    "from selenium.webdriver.support import expected_conditions as EC\n",
    "\n",
    "# Inicializar el controlador de Selenium (asegúrate de tener el controlador adecuado instalado)\n",
    "driver = webdriver.Firefox()\n",
    "\n",
    "# Navegar hacia la página de Wikipedia de Lionel Messi\n",
    "driver.get('https://es.wikipedia.org/wiki/Lionel_Messi')\n",
    "\n",
    "#Encuentra nombre y nacimiento en la tabla infobox\n",
    "#name = infobox.find_element_by_xpath(\"//th[contains(text(), 'Full name')]/following-sibling::td\").text\n",
    "birthday = infobox.find_element_by_xpath(\"//th[contains(text(), 'Born')]/following-sibling::td\").text\n",
    "\n",
    "return (name, birthday)\n",
    "\n",
    "# Encontrar el elemento que contiene el nombre de Messi\n",
    "nombre_element = driver.find_element(By.XPATH,''//th[contains(text(), 'Nombre nacimiento')]/following-sibling::td')\n",
    "nombre = nombre_element.text\n",
    "\n",
    "# Encontrar el elemento que contiene la fecha de nacimiento de Messi\n",
    "fecha_element = driver.find_element(By.XPATH,\"//th[contains(text(), 'Nacimiento')]/following-sibling::td\")\n",
    "#fecha_nacimiento = fecha_element.text\n",
    "\n",
    "      \n",
    "        \n",
    "       # Imprimir los resultados\n",
    "#print(f'Nombre: {nombre}')\n",
    "#print(f'Fecha de nacimiento: {fecha_nacimiento}')\n",
    "\n",
    "# Cerrar el navegador\n",
    "driver.quit()\n"
   ]
  },
  {
   "cell_type": "code",
   "execution_count": 12,
   "id": "bd0413ea",
   "metadata": {},
   "outputs": [
    {
     "name": "stderr",
     "output_type": "stream",
     "text": [
      "C:\\Users\\canasman\\AppData\\Local\\Temp\\ipykernel_18140\\1682571246.py:9: DeprecationWarning: headless property is deprecated, instead use add_argument('--headless') or add_argument('--headless=new')\n",
      "  options.headless = True\n"
     ]
    },
    {
     "name": "stdout",
     "output_type": "stream",
     "text": [
      "Lionel Messi\n"
     ]
    },
    {
     "ename": "TimeoutException",
     "evalue": "Message: \nStacktrace:\nBacktrace:\n\tGetHandleVerifier [0x009F8893+48451]\n\t(No symbol) [0x0098B8A1]\n\t(No symbol) [0x00895058]\n\t(No symbol) [0x008C0467]\n\t(No symbol) [0x008C069B]\n\t(No symbol) [0x008EDD92]\n\t(No symbol) [0x008DA304]\n\t(No symbol) [0x008EC482]\n\t(No symbol) [0x008DA0B6]\n\t(No symbol) [0x008B7E08]\n\t(No symbol) [0x008B8F2D]\n\tGetHandleVerifier [0x00C58E3A+2540266]\n\tGetHandleVerifier [0x00C98959+2801161]\n\tGetHandleVerifier [0x00C9295C+2776588]\n\tGetHandleVerifier [0x00A82280+612144]\n\t(No symbol) [0x00994F6C]\n\t(No symbol) [0x009911D8]\n\t(No symbol) [0x009912BB]\n\t(No symbol) [0x00984857]\n\tBaseThreadInitThunk [0x770500C9+25]\n\tRtlGetAppContainerNamedObjectPath [0x779A7B4E+286]\n\tRtlGetAppContainerNamedObjectPath [0x779A7B1E+238]\n",
     "output_type": "error",
     "traceback": [
      "\u001b[1;31m---------------------------------------------------------------------------\u001b[0m",
      "\u001b[1;31mTimeoutException\u001b[0m                          Traceback (most recent call last)",
      "\u001b[1;32m~\\AppData\\Local\\Temp\\ipykernel_18140\\1682571246.py\u001b[0m in \u001b[0;36m<module>\u001b[1;34m\u001b[0m\n\u001b[0;32m     17\u001b[0m \u001b[0mname\u001b[0m \u001b[1;33m=\u001b[0m \u001b[0mname_element\u001b[0m\u001b[1;33m.\u001b[0m\u001b[0mtext\u001b[0m\u001b[1;33m\u001b[0m\u001b[1;33m\u001b[0m\u001b[0m\n\u001b[0;32m     18\u001b[0m \u001b[0mprint\u001b[0m\u001b[1;33m(\u001b[0m\u001b[0mname\u001b[0m\u001b[1;33m)\u001b[0m\u001b[1;33m\u001b[0m\u001b[1;33m\u001b[0m\u001b[0m\n\u001b[1;32m---> 19\u001b[1;33m \u001b[0mbirthday_element\u001b[0m \u001b[1;33m=\u001b[0m \u001b[0mWebDriverWait\u001b[0m\u001b[1;33m(\u001b[0m\u001b[0mdriver\u001b[0m\u001b[1;33m,\u001b[0m \u001b[1;36m10\u001b[0m\u001b[1;33m)\u001b[0m\u001b[1;33m.\u001b[0m\u001b[0muntil\u001b[0m\u001b[1;33m(\u001b[0m\u001b[0mEC\u001b[0m\u001b[1;33m.\u001b[0m\u001b[0mpresence_of_element_located\u001b[0m\u001b[1;33m(\u001b[0m\u001b[1;33m(\u001b[0m\u001b[0mBy\u001b[0m\u001b[1;33m.\u001b[0m\u001b[0mXPATH\u001b[0m\u001b[1;33m,\u001b[0m \u001b[1;34m\"//span[@class='reference separada']\"\u001b[0m\u001b[1;33m)\u001b[0m\u001b[1;33m)\u001b[0m\u001b[1;33m)\u001b[0m\u001b[1;33m\u001b[0m\u001b[1;33m\u001b[0m\u001b[0m\n\u001b[0m\u001b[0;32m     20\u001b[0m \u001b[1;33m\u001b[0m\u001b[0m\n\u001b[0;32m     21\u001b[0m \u001b[1;31m# Extract the name and birthday\u001b[0m\u001b[1;33m\u001b[0m\u001b[1;33m\u001b[0m\u001b[0m\n",
      "\u001b[1;32m~\\Documents\\Anaconda\\lib\\site-packages\\selenium\\webdriver\\support\\wait.py\u001b[0m in \u001b[0;36muntil\u001b[1;34m(self, method, message)\u001b[0m\n\u001b[0;32m     93\u001b[0m             \u001b[1;32mif\u001b[0m \u001b[0mtime\u001b[0m\u001b[1;33m.\u001b[0m\u001b[0mmonotonic\u001b[0m\u001b[1;33m(\u001b[0m\u001b[1;33m)\u001b[0m \u001b[1;33m>\u001b[0m \u001b[0mend_time\u001b[0m\u001b[1;33m:\u001b[0m\u001b[1;33m\u001b[0m\u001b[1;33m\u001b[0m\u001b[0m\n\u001b[0;32m     94\u001b[0m                 \u001b[1;32mbreak\u001b[0m\u001b[1;33m\u001b[0m\u001b[1;33m\u001b[0m\u001b[0m\n\u001b[1;32m---> 95\u001b[1;33m         \u001b[1;32mraise\u001b[0m \u001b[0mTimeoutException\u001b[0m\u001b[1;33m(\u001b[0m\u001b[0mmessage\u001b[0m\u001b[1;33m,\u001b[0m \u001b[0mscreen\u001b[0m\u001b[1;33m,\u001b[0m \u001b[0mstacktrace\u001b[0m\u001b[1;33m)\u001b[0m\u001b[1;33m\u001b[0m\u001b[1;33m\u001b[0m\u001b[0m\n\u001b[0m\u001b[0;32m     96\u001b[0m \u001b[1;33m\u001b[0m\u001b[0m\n\u001b[0;32m     97\u001b[0m     \u001b[1;32mdef\u001b[0m \u001b[0muntil_not\u001b[0m\u001b[1;33m(\u001b[0m\u001b[0mself\u001b[0m\u001b[1;33m,\u001b[0m \u001b[0mmethod\u001b[0m\u001b[1;33m,\u001b[0m \u001b[0mmessage\u001b[0m\u001b[1;33m:\u001b[0m \u001b[0mstr\u001b[0m \u001b[1;33m=\u001b[0m \u001b[1;34m\"\"\u001b[0m\u001b[1;33m)\u001b[0m\u001b[1;33m:\u001b[0m\u001b[1;33m\u001b[0m\u001b[1;33m\u001b[0m\u001b[0m\n",
      "\u001b[1;31mTimeoutException\u001b[0m: Message: \nStacktrace:\nBacktrace:\n\tGetHandleVerifier [0x009F8893+48451]\n\t(No symbol) [0x0098B8A1]\n\t(No symbol) [0x00895058]\n\t(No symbol) [0x008C0467]\n\t(No symbol) [0x008C069B]\n\t(No symbol) [0x008EDD92]\n\t(No symbol) [0x008DA304]\n\t(No symbol) [0x008EC482]\n\t(No symbol) [0x008DA0B6]\n\t(No symbol) [0x008B7E08]\n\t(No symbol) [0x008B8F2D]\n\tGetHandleVerifier [0x00C58E3A+2540266]\n\tGetHandleVerifier [0x00C98959+2801161]\n\tGetHandleVerifier [0x00C9295C+2776588]\n\tGetHandleVerifier [0x00A82280+612144]\n\t(No symbol) [0x00994F6C]\n\t(No symbol) [0x009911D8]\n\t(No symbol) [0x009912BB]\n\t(No symbol) [0x00984857]\n\tBaseThreadInitThunk [0x770500C9+25]\n\tRtlGetAppContainerNamedObjectPath [0x779A7B4E+286]\n\tRtlGetAppContainerNamedObjectPath [0x779A7B1E+238]\n"
     ]
    }
   ],
   "source": [
    "from selenium import webdriver\n",
    "from selenium.webdriver.chrome.options import Options\n",
    "from selenium.webdriver.common.by import By\n",
    "from selenium.webdriver.support.ui import WebDriverWait\n",
    "from selenium.webdriver.support import expected_conditions as EC\n",
    "\n",
    "# Set up the Selenium driver\n",
    "options = Options()\n",
    "options.headless = True\n",
    "driver = webdriver.Chrome(options=options)\n",
    "        \n",
    "# Navigate to the Wikipedia page\n",
    "driver.get(\"https://es.wikipedia.org/wiki/Lionel_Messi\")\n",
    "        \n",
    "# Name\n",
    "name_element = WebDriverWait(driver, 10).until(EC.presence_of_element_located((By.XPATH, \"//h1[@id='firstHeading']\")))\n",
    "name = name_element.text\n",
    "print(name)\n",
    "        \n",
    "# Birthday\n",
    "birthday_element = WebDriverWait(driver, 10).until(EC.presence_of_element_located((By.XPATH, \"//span[@class='reference separada']\")))\n",
    "name = name_element.text\n",
    "birthday = birthday_element.text\n",
    "        \n",
    "# Close the driver and return the results\n",
    "driver.quit()\n",
    "return (name, birthday)\n"
   ]
  }
 ],
 "metadata": {
  "kernelspec": {
   "display_name": "Python 3 (ipykernel)",
   "language": "python",
   "name": "python3"
  },
  "language_info": {
   "codemirror_mode": {
    "name": "ipython",
    "version": 3
   },
   "file_extension": ".py",
   "mimetype": "text/x-python",
   "name": "python",
   "nbconvert_exporter": "python",
   "pygments_lexer": "ipython3",
   "version": "3.9.13"
  }
 },
 "nbformat": 4,
 "nbformat_minor": 5
}
