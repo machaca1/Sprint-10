{
 "cells": [
  {
   "cell_type": "code",
   "execution_count": 1,
   "id": "b11bafe6",
   "metadata": {},
   "outputs": [
    {
     "name": "stderr",
     "output_type": "stream",
     "text": [
      "C:\\Users\\canasman\\AppData\\Local\\Temp\\ipykernel_10604\\3924723977.py:16: DeprecationWarning: headless property is deprecated, instead use add_argument('--headless') or add_argument('--headless=new')\n",
      "  options.headless = True\n",
      "ERROR:root:Se produjo un error al extraer la información de los conjuntos de datos.\n",
      "Traceback (most recent call last):\n",
      "  File \"C:\\Users\\canasman\\AppData\\Local\\Temp\\ipykernel_10604\\3924723977.py\", line 23, in scrape_kaggle_dataset_info\n",
      "    dataset_elements = WebDriverWait(driver, 10).until(\n",
      "  File \"C:\\Users\\canasman\\Documents\\Anaconda\\lib\\site-packages\\selenium\\webdriver\\support\\wait.py\", line 95, in until\n",
      "    raise TimeoutException(message, screen, stacktrace)\n",
      "selenium.common.exceptions.TimeoutException: Message: \n",
      "\n"
     ]
    },
    {
     "name": "stdout",
     "output_type": "stream",
     "text": [
      "Se produjo un error al extraer la información de los conjuntos de datos.\n"
     ]
    }
   ],
   "source": [
    "from selenium import webdriver\n",
    "from selenium.webdriver.chrome.options import Options\n",
    "from selenium.webdriver.common.by import By\n",
    "from selenium.webdriver.support.ui import WebDriverWait\n",
    "from selenium.webdriver.support import expected_conditions as EC\n",
    "from docx import Document\n",
    "\n",
    "def scrape_kaggle_dataset_info():\n",
    "    \"\"\"\n",
    "    Esta función utiliza Selenium para extraer información sobre los conjuntos de datos de Kaggle\n",
    "    y documentarla en un archivo Word.\n",
    "    \"\"\"\n",
    "    try:\n",
    "        # Configurar el controlador de Selenium\n",
    "        options = Options()\n",
    "        options.headless = True\n",
    "        driver = webdriver.Chrome(options=options)\n",
    "        \n",
    "        # Navegar a la página de Kaggle\n",
    "        driver.get(\"https://www.kaggle.com/datasets/\")\n",
    "        \n",
    "        # Esperar a que los elementos de los conjuntos de datos se carguen\n",
    "        dataset_elements = WebDriverWait(driver, 10).until(\n",
    "            EC.presence_of_all_elements_located((By.XPATH, \"//a[@class='dataset-item__url']\"))\n",
    "        )\n",
    "        \n",
    "        # Crear un nuevo documento de Word\n",
    "        document = Document()\n",
    "        \n",
    "        # Iterar sobre los elementos de los conjuntos de datos\n",
    "        for dataset_element in dataset_elements:\n",
    "            # Obtener la información del conjunto de datos\n",
    "            dataset_title = dataset_element.text\n",
    "            dataset_url = dataset_element.get_attribute(\"href\")\n",
    "            \n",
    "            # Agregar la información al documento de Word\n",
    "            document.add_heading(dataset_title, level=1)\n",
    "            document.add_paragraph(f\"URL: {dataset_url}\")\n",
    "            document.add_paragraph()\n",
    "        \n",
    "        # Guardar el documento de Word\n",
    "        document.save(\"datasets_info.docx\")\n",
    "        \n",
    "        # Cerrar el controlador de Selenium\n",
    "        driver.quit()\n",
    "        \n",
    "        print(\"La información de los conjuntos de datos se ha documentado en 'datasets_info.docx'.\")\n",
    "    except:\n",
    "        # Registrar cualquier error y mostrar un mensaje de error\n",
    "        import logging\n",
    "        logging.exception(\"Se produjo un error al extraer la información de los conjuntos de datos.\")\n",
    "        print(\"Se produjo un error al extraer la información de los conjuntos de datos.\")\n",
    "\n",
    "# Ejecutar la función para extraer la información y documentarla\n",
    "scrape_kaggle_dataset_info()\n"
   ]
  }
 ],
 "metadata": {
  "kernelspec": {
   "display_name": "Python 3 (ipykernel)",
   "language": "python",
   "name": "python3"
  },
  "language_info": {
   "codemirror_mode": {
    "name": "ipython",
    "version": 3
   },
   "file_extension": ".py",
   "mimetype": "text/x-python",
   "name": "python",
   "nbconvert_exporter": "python",
   "pygments_lexer": "ipython3",
   "version": "3.9.13"
  }
 },
 "nbformat": 4,
 "nbformat_minor": 5
}
